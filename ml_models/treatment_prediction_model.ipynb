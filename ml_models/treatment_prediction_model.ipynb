{
 "cells": [
  {
   "cell_type": "code",
   "execution_count": 1,
   "id": "81fb6cb9-6073-42f5-a353-a83812994b3a",
   "metadata": {},
   "outputs": [
    {
     "name": "stdout",
     "output_type": "stream",
     "text": [
      "age                0\n",
      "gender             0\n",
      "blood_pressure     0\n",
      "glucose            0\n",
      "hypertension       0\n",
      "chronic_disease    0\n",
      "condition          0\n",
      "treatment_type     0\n",
      "dtype: int64\n",
      "   age  gender blood_pressure  glucose hypertension chronic_disease condition  \\\n",
      "0   52  Female         137/82      110           No            COPD    Severe   \n",
      "1   42  Female         118/75       88           No    Hypertension  Moderate   \n",
      "2   54  Female         111/87       75           No        Diabetes  Moderate   \n",
      "3   67    Male         116/87      116           No    Hypertension  Moderate   \n",
      "4   41  Female         119/73      102           No    Hypertension  Moderate   \n",
      "\n",
      "    treatment_type  \n",
      "0   Oxygen Therapy  \n",
      "1       Medication  \n",
      "2  Insulin Therapy  \n",
      "3       Medication  \n",
      "4       Medication  \n"
     ]
    }
   ],
   "source": [
    "import pandas as pd\n",
    "import numpy as np\n",
    "\n",
    "# Set random seed for reproducibility\n",
    "np.random.seed(42)\n",
    "\n",
    "# Number of rows in the dataset\n",
    "num_rows = 100000\n",
    "\n",
    "# Age (between 18 and 90)\n",
    "ages = np.random.normal(45, 15, num_rows).clip(18, 90).astype(int)\n",
    "\n",
    "# Gender (Male or Female)\n",
    "genders = np.random.choice(['Male', 'Female'], num_rows)\n",
    "\n",
    "# Blood Pressure (systolic/diastolic)\n",
    "systolic = np.random.normal(120, 15, num_rows).clip(90, 180).astype(int)\n",
    "diastolic = np.random.normal(80, 10, num_rows).clip(60, 120).astype(int)\n",
    "blood_pressure = [f\"{s}/{d}\" for s, d in zip(systolic, diastolic)]\n",
    "\n",
    "# Glucose levels (70-200 mg/dL)\n",
    "glucose = np.random.normal(100, 30, num_rows).clip(70, 200).astype(int)\n",
    "\n",
    "# Hypertension (Yes or No) based on systolic/diastolic pressure\n",
    "hypertension = ['Yes' if s > 140 or d > 90 else 'No' for s, d in zip(systolic, diastolic)]\n",
    "\n",
    "# Chronic Disease types\n",
    "chronic_diseases = np.random.choice(['Diabetes', 'Hypertension', 'Asthma', 'Arthritis', 'Heart Disease', 'COPD'], num_rows)\n",
    "\n",
    "# Condition based on Chronic Disease\n",
    "conditions = []\n",
    "for disease in chronic_diseases:\n",
    "    if disease == 'Diabetes':\n",
    "        conditions.append(np.random.choice(['Mild', 'Moderate', 'Severe'], p=[0.4, 0.4, 0.2]))\n",
    "    elif disease == 'Hypertension':\n",
    "        conditions.append(np.random.choice(['Mild', 'Moderate', 'Severe'], p=[0.5, 0.4, 0.1]))\n",
    "    elif disease == 'Asthma':\n",
    "        conditions.append(np.random.choice(['Mild', 'Moderate', 'Severe'], p=[0.6, 0.3, 0.1]))\n",
    "    elif disease == 'Arthritis':\n",
    "        conditions.append(np.random.choice(['Mild', 'Moderate', 'Severe'], p=[0.7, 0.2, 0.1]))\n",
    "    elif disease == 'Heart Disease':\n",
    "        conditions.append(np.random.choice(['Mild', 'Moderate', 'Severe'], p=[0.3, 0.4, 0.3]))\n",
    "    elif disease == 'COPD':\n",
    "        conditions.append(np.random.choice(['Mild', 'Moderate', 'Severe'], p=[0.4, 0.3, 0.3]))\n",
    "\n",
    "# Treatment Types based on Chronic Disease and Condition\n",
    "treatment_types = []\n",
    "for disease, condition in zip(chronic_diseases, conditions):\n",
    "    if disease == 'Diabetes':\n",
    "        if condition == 'Mild':\n",
    "            treatment_types.append('Lifestyle Changes')\n",
    "        elif condition == 'Moderate':\n",
    "            treatment_types.append('Insulin Therapy')\n",
    "        else:\n",
    "            treatment_types.append('Medication')\n",
    "    elif disease == 'Hypertension':\n",
    "        if condition == 'Mild':\n",
    "            treatment_types.append('Lifestyle Changes')\n",
    "        elif condition == 'Moderate':\n",
    "            treatment_types.append('Medication')\n",
    "        else:\n",
    "            treatment_types.append('Surgery')\n",
    "    elif disease == 'Asthma':\n",
    "        if condition == 'Mild':\n",
    "            treatment_types.append('Inhalers')\n",
    "        elif condition == 'Moderate':\n",
    "            treatment_types.append('Medication')\n",
    "        else:\n",
    "            treatment_types.append('Oxygen Therapy')\n",
    "    elif disease == 'Arthritis':\n",
    "        if condition == 'Mild':\n",
    "            treatment_types.append('Physiotherapy')\n",
    "        elif condition == 'Moderate':\n",
    "            treatment_types.append('Medication')\n",
    "        else:\n",
    "            treatment_types.append('Surgery')\n",
    "    elif disease == 'Heart Disease':\n",
    "        if condition == 'Mild':\n",
    "            treatment_types.append('Lifestyle Changes')\n",
    "        elif condition == 'Moderate':\n",
    "            treatment_types.append('Medication')\n",
    "        else:\n",
    "            treatment_types.append('Surgery')\n",
    "    elif disease == 'COPD':\n",
    "        if condition == 'Mild':\n",
    "            treatment_types.append('Lifestyle Changes')\n",
    "        elif condition == 'Moderate':\n",
    "            treatment_types.append('Inhalers')\n",
    "        else:\n",
    "            treatment_types.append('Oxygen Therapy')\n",
    "\n",
    "# Create DataFrame\n",
    "df = pd.DataFrame({\n",
    "    'age': ages,\n",
    "    'gender': genders,\n",
    "    'blood_pressure': blood_pressure,\n",
    "    'glucose': glucose,\n",
    "    'hypertension': hypertension,\n",
    "    'chronic_disease': chronic_diseases,\n",
    "    'condition': conditions,\n",
    "    'treatment_type': treatment_types\n",
    "})\n",
    "\n",
    "# Check for null values\n",
    "print(df.isnull().sum())\n",
    "\n",
    "# Save to a CSV file\n",
    "df.to_csv('synthetic_healthcare_data.csv', index=False)\n",
    "\n",
    "# Preview the first few rows of the dataset\n",
    "print(df.head())"
   ]
  },
  {
   "cell_type": "code",
   "execution_count": 3,
   "id": "f90acb21-d9ac-46fd-bd28-52a41d51c4e3",
   "metadata": {},
   "outputs": [
    {
     "name": "stdout",
     "output_type": "stream",
     "text": [
      "Model Accuracy: 100.00%\n",
      "           Feature  Importance\n",
      "4  chronic_disease    0.533480\n",
      "5        condition    0.422155\n",
      "6         systolic    0.011078\n",
      "2          glucose    0.011012\n",
      "0              age    0.010719\n",
      "7        diastolic    0.009760\n",
      "1           gender    0.001210\n",
      "3     hypertension    0.000587\n"
     ]
    }
   ],
   "source": [
    "import pandas as pd\n",
    "import numpy as np\n",
    "from sklearn.model_selection import train_test_split\n",
    "from sklearn.ensemble import RandomForestClassifier\n",
    "from sklearn.preprocessing import LabelEncoder\n",
    "from sklearn.metrics import accuracy_score\n",
    "\n",
    "# Load the dataset\n",
    "df = pd.read_csv('synthetic_healthcare_data.csv')\n",
    "\n",
    "# Split the 'blood_pressure' column into systolic and diastolic columns\n",
    "df[['systolic', 'diastolic']] = df['blood_pressure'].str.split('/', expand=True)\n",
    "df['systolic'] = pd.to_numeric(df['systolic'])\n",
    "df['diastolic'] = pd.to_numeric(df['diastolic'])\n",
    "\n",
    "# Drop the original 'blood_pressure' column\n",
    "df = df.drop(columns=['blood_pressure'])\n",
    "\n",
    "# Preprocessing\n",
    "# Convert categorical variables using Label Encoding or One-Hot Encoding\n",
    "le = LabelEncoder()\n",
    "\n",
    "# Label encode 'gender', 'hypertension', 'chronic_disease', 'condition', and 'treatment_type'\n",
    "df['gender'] = le.fit_transform(df['gender'])\n",
    "df['hypertension'] = le.fit_transform(df['hypertension'])\n",
    "df['chronic_disease'] = le.fit_transform(df['chronic_disease'])\n",
    "df['condition'] = le.fit_transform(df['condition'])\n",
    "df['treatment_type'] = le.fit_transform(df['treatment_type'])\n",
    "\n",
    "# Features and target variable\n",
    "X = df.drop('treatment_type', axis=1)  # Features\n",
    "y = df['treatment_type']  # Target variable\n",
    "\n",
    "# Split the data into training and test sets (80% training, 20% test)\n",
    "X_train, X_test, y_train, y_test = train_test_split(X, y, test_size=0.2, random_state=42)\n",
    "\n",
    "# Train a Random Forest classifier\n",
    "clf = RandomForestClassifier(n_estimators=100, random_state=42)\n",
    "clf.fit(X_train, y_train)\n",
    "\n",
    "# Make predictions on the test set\n",
    "y_pred = clf.predict(X_test)\n",
    "\n",
    "# Evaluate the model accuracy\n",
    "accuracy = accuracy_score(y_test, y_pred)\n",
    "print(f'Model Accuracy: {accuracy * 100:.2f}%')\n",
    "\n",
    "# Feature importance (to understand which features are most influential in the model)\n",
    "importances = clf.feature_importances_\n",
    "feature_importance_df = pd.DataFrame({\n",
    "    'Feature': X.columns,\n",
    "    'Importance': importances\n",
    "}).sort_values(by='Importance', ascending=False)\n",
    "\n",
    "print(feature_importance_df)\n"
   ]
  },
  {
   "cell_type": "code",
   "execution_count": 5,
   "id": "71746bbb-e4f2-4672-ab7f-3d76de65ee67",
   "metadata": {},
   "outputs": [
    {
     "name": "stdout",
     "output_type": "stream",
     "text": [
      "Model Accuracy: 100.00%\n",
      "           Feature  Importance\n",
      "4  chronic_disease    0.533480\n",
      "5        condition    0.422155\n",
      "6         systolic    0.011078\n",
      "2          glucose    0.011012\n",
      "0              age    0.010719\n",
      "7        diastolic    0.009760\n",
      "1           gender    0.001210\n",
      "3     hypertension    0.000587\n"
     ]
    }
   ],
   "source": [
    "import pandas as pd\n",
    "import numpy as np\n",
    "from sklearn.model_selection import train_test_split\n",
    "from sklearn.ensemble import RandomForestClassifier\n",
    "from sklearn.preprocessing import LabelEncoder\n",
    "from sklearn.metrics import accuracy_score\n",
    "import joblib\n",
    "\n",
    "# Load the dataset\n",
    "df = pd.read_csv('synthetic_healthcare_data.csv')\n",
    "\n",
    "# Split the 'blood_pressure' column into systolic and diastolic columns\n",
    "df[['systolic', 'diastolic']] = df['blood_pressure'].str.split('/', expand=True)\n",
    "df['systolic'] = pd.to_numeric(df['systolic'])\n",
    "df['diastolic'] = pd.to_numeric(df['diastolic'])\n",
    "\n",
    "# Drop the original 'blood_pressure' column\n",
    "df = df.drop(columns=['blood_pressure'])\n",
    "\n",
    "# Preprocessing\n",
    "# Convert categorical variables using Label Encoding or One-Hot Encoding\n",
    "le = LabelEncoder()\n",
    "\n",
    "# Label encode 'gender', 'hypertension', 'chronic_disease', 'condition', and 'treatment_type'\n",
    "df['gender'] = le.fit_transform(df['gender'])\n",
    "df['hypertension'] = le.fit_transform(df['hypertension'])\n",
    "df['chronic_disease'] = le.fit_transform(df['chronic_disease'])\n",
    "df['condition'] = le.fit_transform(df['condition'])\n",
    "df['treatment_type'] = le.fit_transform(df['treatment_type'])\n",
    "\n",
    "# Features and target variable\n",
    "X = df.drop('treatment_type', axis=1)  # Features\n",
    "y = df['treatment_type']  # Target variable\n",
    "\n",
    "# Split the data into training and test sets (80% training, 20% test)\n",
    "X_train, X_test, y_train, y_test = train_test_split(X, y, test_size=0.2, random_state=42)\n",
    "\n",
    "# Train a Random Forest classifier\n",
    "clf = RandomForestClassifier(n_estimators=100, random_state=42)\n",
    "clf.fit(X_train, y_train)\n",
    "\n",
    "# Make predictions on the test set\n",
    "y_pred = clf.predict(X_test)\n",
    "\n",
    "# Evaluate the model accuracy\n",
    "accuracy = accuracy_score(y_test, y_pred)\n",
    "print(f'Model Accuracy: {accuracy * 100:.2f}%')\n",
    "\n",
    "# Save the trained model to a file (trained_model.pkl)\n",
    "joblib.dump(clf, 'trained_model.pkl')\n",
    "\n",
    "# Feature importance (to understand which features are most influential in the model)\n",
    "importances = clf.feature_importances_\n",
    "feature_importance_df = pd.DataFrame({\n",
    "    'Feature': X.columns,\n",
    "    'Importance': importances\n",
    "}).sort_values(by='Importance', ascending=False)\n",
    "\n",
    "print(feature_importance_df)\n"
   ]
  },
  {
   "cell_type": "code",
   "execution_count": 6,
   "id": "afc4d4d7-458a-417d-97d9-a879462a022f",
   "metadata": {},
   "outputs": [
    {
     "data": {
      "text/plain": [
       "['label_encoder.pkl']"
      ]
     },
     "execution_count": 6,
     "metadata": {},
     "output_type": "execute_result"
    }
   ],
   "source": [
    "# Save the encoder as well\n",
    "joblib.dump(le, 'label_encoder.pkl')"
   ]
  },
  {
   "cell_type": "code",
   "execution_count": 7,
   "id": "b4d716f0-5e06-49e0-a668-1891e4766505",
   "metadata": {},
   "outputs": [
    {
     "name": "stdout",
     "output_type": "stream",
     "text": [
      "Model Accuracy: 100.00%\n"
     ]
    },
    {
     "data": {
      "text/plain": [
       "['label_encoder.pkl']"
      ]
     },
     "execution_count": 7,
     "metadata": {},
     "output_type": "execute_result"
    }
   ],
   "source": [
    "import pandas as pd\n",
    "import numpy as np\n",
    "from sklearn.model_selection import train_test_split\n",
    "from sklearn.ensemble import RandomForestClassifier\n",
    "from sklearn.preprocessing import LabelEncoder\n",
    "from sklearn.metrics import accuracy_score\n",
    "import joblib\n",
    "\n",
    "# Load the dataset\n",
    "df = pd.read_csv('synthetic_healthcare_data.csv')\n",
    "\n",
    "# Split the 'blood_pressure' column into systolic and diastolic columns\n",
    "df[['systolic', 'diastolic']] = df['blood_pressure'].str.split('/', expand=True)\n",
    "df['systolic'] = pd.to_numeric(df['systolic'])\n",
    "df['diastolic'] = pd.to_numeric(df['diastolic'])\n",
    "\n",
    "# Drop the original 'blood_pressure' column\n",
    "df = df.drop(columns=['blood_pressure'])\n",
    "\n",
    "# Preprocessing\n",
    "# Convert categorical variables using Label Encoding or One-Hot Encoding\n",
    "le = LabelEncoder()\n",
    "\n",
    "# Label encode 'gender', 'hypertension', 'chronic_disease', 'condition', and 'treatment_type'\n",
    "df['gender'] = le.fit_transform(df['gender'])\n",
    "df['hypertension'] = le.fit_transform(df['hypertension'])\n",
    "df['chronic_disease'] = le.fit_transform(df['chronic_disease'])\n",
    "df['condition'] = le.fit_transform(df['condition'])\n",
    "df['treatment_type'] = le.fit_transform(df['treatment_type'])\n",
    "\n",
    "# Features and target variable\n",
    "X = df.drop('treatment_type', axis=1)  # Features\n",
    "y = df['treatment_type']  # Target variable\n",
    "\n",
    "# Split the data into training and test sets (80% training, 20% test)\n",
    "X_train, X_test, y_train, y_test = train_test_split(X, y, test_size=0.2, random_state=42)\n",
    "\n",
    "# Train a Random Forest classifier\n",
    "clf = RandomForestClassifier(n_estimators=100, random_state=42)\n",
    "clf.fit(X_train, y_train)\n",
    "\n",
    "# Make predictions on the test set\n",
    "y_pred = clf.predict(X_test)\n",
    "\n",
    "# Evaluate the model accuracy\n",
    "accuracy = accuracy_score(y_test, y_pred)\n",
    "print(f'Model Accuracy: {accuracy * 100:.2f}%')\n",
    "\n",
    "# Save the trained model and the LabelEncoder to a file\n",
    "joblib.dump(clf, 'trained_model.pkl')\n",
    "joblib.dump(le, 'label_encoder.pkl')  # Save the LabelEncoder"
   ]
  },
  {
   "cell_type": "code",
   "execution_count": 9,
   "id": "821f1f46-bb36-4947-a3b7-c6e43820ec6c",
   "metadata": {},
   "outputs": [
    {
     "name": "stdout",
     "output_type": "stream",
     "text": [
      "treatment_type\n",
      "2    26725\n",
      "3    25096\n",
      "0    15008\n",
      "5    11480\n",
      "6     8299\n",
      "1     6733\n",
      "4     6659\n",
      "Name: count, dtype: int64\n"
     ]
    }
   ],
   "source": [
    "print(df['treatment_type'].value_counts())"
   ]
  },
  {
   "cell_type": "code",
   "execution_count": 10,
   "id": "79641491-2bb9-4e86-844b-52457473af63",
   "metadata": {},
   "outputs": [
    {
     "name": "stdout",
     "output_type": "stream",
     "text": [
      "Model Accuracy: 99.80%\n",
      "              precision    recall  f1-score   support\n",
      "\n",
      "           0       1.00      1.00      1.00      3041\n",
      "           1       1.00      1.00      1.00      1386\n",
      "           2       1.00      1.00      1.00      5398\n",
      "           3       1.00      0.99      1.00      4960\n",
      "           4       1.00      1.00      1.00      1308\n",
      "           5       1.00      1.00      1.00      2246\n",
      "           6       0.98      1.00      0.99      1661\n",
      "\n",
      "    accuracy                           1.00     20000\n",
      "   macro avg       1.00      1.00      1.00     20000\n",
      "weighted avg       1.00      1.00      1.00     20000\n",
      "\n",
      "           Feature  Importance\n",
      "4  chronic_disease    0.554241\n",
      "5        condition    0.374980\n",
      "2          glucose    0.017711\n",
      "6         systolic    0.016830\n",
      "0              age    0.016763\n",
      "7        diastolic    0.014913\n",
      "1           gender    0.003944\n",
      "3     hypertension    0.000618\n"
     ]
    }
   ],
   "source": [
    "import pandas as pd\n",
    "import numpy as np\n",
    "from sklearn.model_selection import train_test_split\n",
    "from sklearn.ensemble import RandomForestClassifier\n",
    "from sklearn.preprocessing import LabelEncoder\n",
    "from sklearn.metrics import accuracy_score, classification_report\n",
    "from imblearn.over_sampling import SMOTE\n",
    "import joblib\n",
    "\n",
    "# Load the dataset\n",
    "df = pd.read_csv('synthetic_healthcare_data.csv')\n",
    "\n",
    "# Split the 'blood_pressure' column into systolic and diastolic columns\n",
    "df[['systolic', 'diastolic']] = df['blood_pressure'].str.split('/', expand=True)\n",
    "df['systolic'] = pd.to_numeric(df['systolic'])\n",
    "df['diastolic'] = pd.to_numeric(df['diastolic'])\n",
    "\n",
    "# Drop the original 'blood_pressure' column\n",
    "df = df.drop(columns=['blood_pressure'])\n",
    "\n",
    "# Preprocessing\n",
    "# Convert categorical variables using Label Encoding or One-Hot Encoding\n",
    "le = LabelEncoder()\n",
    "\n",
    "# Label encode 'gender', 'hypertension', 'chronic_disease', 'condition', and 'treatment_type'\n",
    "df['gender'] = le.fit_transform(df['gender'])\n",
    "df['hypertension'] = le.fit_transform(df['hypertension'])\n",
    "df['chronic_disease'] = le.fit_transform(df['chronic_disease'])\n",
    "df['condition'] = le.fit_transform(df['condition'])\n",
    "df['treatment_type'] = le.fit_transform(df['treatment_type'])\n",
    "\n",
    "# Features and target variable\n",
    "X = df.drop('treatment_type', axis=1)  # Features\n",
    "y = df['treatment_type']  # Target variable\n",
    "\n",
    "# Split the data into training and test sets (80% training, 20% test)\n",
    "X_train, X_test, y_train, y_test = train_test_split(X, y, test_size=0.2, random_state=42)\n",
    "\n",
    "# Apply SMOTE to balance the dataset\n",
    "smote = SMOTE(random_state=42)\n",
    "X_resampled, y_resampled = smote.fit_resample(X_train, y_train)\n",
    "\n",
    "# Train a Random Forest classifier with class weights (optional, SMOTE already balances data)\n",
    "clf = RandomForestClassifier(n_estimators=100, class_weight='balanced', random_state=42)\n",
    "clf.fit(X_resampled, y_resampled)\n",
    "\n",
    "# Make predictions on the test set\n",
    "y_pred = clf.predict(X_test)\n",
    "\n",
    "# Evaluate the model accuracy\n",
    "accuracy = accuracy_score(y_test, y_pred)\n",
    "print(f'Model Accuracy: {accuracy * 100:.2f}%')\n",
    "\n",
    "# Print classification report for better evaluation\n",
    "print(classification_report(y_test, y_pred))\n",
    "\n",
    "# Save the trained model to a file (trained_model.pkl)\n",
    "joblib.dump(clf, 'trained_model.pkl')\n",
    "\n",
    "# Feature importance (to understand which features are most influential in the model)\n",
    "importances = clf.feature_importances_\n",
    "feature_importance_df = pd.DataFrame({\n",
    "    'Feature': X.columns,\n",
    "    'Importance': importances\n",
    "}).sort_values(by='Importance', ascending=False)\n",
    "\n",
    "print(feature_importance_df)"
   ]
  },
  {
   "cell_type": "code",
   "execution_count": 11,
   "id": "6dae2a9d-8dda-4d5e-a4c8-a386209b4d9a",
   "metadata": {},
   "outputs": [
    {
     "name": "stdout",
     "output_type": "stream",
     "text": [
      "treatment_type\n",
      "2    26725\n",
      "3    25096\n",
      "0    15008\n",
      "5    11480\n",
      "6     8299\n",
      "1     6733\n",
      "4     6659\n",
      "Name: count, dtype: int64\n"
     ]
    },
    {
     "data": {
      "image/png": "[encoded data removed]",
      "text/plain": [
       "<Figure size 640x480 with 1 Axes>"
      ]
     },
     "metadata": {},
     "output_type": "display_data"
    }
   ],
   "source": [
    "# Check the distribution of the treatment_type classes\n",
    "print(df['treatment_type'].value_counts())\n",
    "\n",
    "# Optionally, you can visualize it using a bar plot\n",
    "import matplotlib.pyplot as plt\n",
    "\n",
    "df['treatment_type'].value_counts().plot(kind='bar')\n",
    "plt.title('Distribution of Treatment Types')\n",
    "plt.xlabel('Treatment Type')\n",
    "plt.ylabel('Frequency')\n",
    "plt.show()"
   ]
  },
  {
   "cell_type": "code",
   "execution_count": 12,
   "id": "015dfe46-d5d9-466c-bb19-8467739375a2",
   "metadata": {},
   "outputs": [],
   "source": [
    "clf = RandomForestClassifier(n_estimators=100, random_state=42, class_weight='balanced')"
   ]
  },
  {
   "cell_type": "code",
   "execution_count": 14,
   "id": "294dd285-111a-4f7e-8d0d-329c06103480",
   "metadata": {},
   "outputs": [
    {
     "name": "stdout",
     "output_type": "stream",
     "text": [
      "Requirement already satisfied: imbalanced-learn in c:\\users\\shaik\\anaconda3\\lib\\site-packages (0.11.0)\n",
      "Requirement already satisfied: numpy>=1.17.3 in c:\\users\\shaik\\anaconda3\\lib\\site-packages (from imbalanced-learn) (1.26.4)\n",
      "Requirement already satisfied: scipy>=1.5.0 in c:\\users\\shaik\\anaconda3\\lib\\site-packages (from imbalanced-learn) (1.11.4)\n",
      "Requirement already satisfied: scikit-learn>=1.0.2 in c:\\users\\shaik\\anaconda3\\lib\\site-packages (from imbalanced-learn) (1.2.2)\n",
      "Requirement already satisfied: joblib>=1.1.1 in c:\\users\\shaik\\anaconda3\\lib\\site-packages (from imbalanced-learn) (1.2.0)\n",
      "Requirement already satisfied: threadpoolctl>=2.0.0 in c:\\users\\shaik\\anaconda3\\lib\\site-packages (from imbalanced-learn) (2.2.0)\n",
      "Note: you may need to restart the kernel to use updated packages.\n"
     ]
    }
   ],
   "source": [
    "pip install imbalanced-learn"
   ]
  },
  {
   "cell_type": "code",
   "execution_count": 15,
   "id": "bdc102af-61c4-401a-8bf0-372eff5ec908",
   "metadata": {},
   "outputs": [
    {
     "name": "stdout",
     "output_type": "stream",
     "text": [
      "Original dataset size: 80000\n",
      "Resampled dataset size: 149289\n"
     ]
    }
   ],
   "source": [
    "from imblearn.over_sampling import SMOTE\n",
    "from sklearn.model_selection import train_test_split\n",
    "\n",
    "# Separate features (X) and target (y)\n",
    "X = df.drop('treatment_type', axis=1)\n",
    "y = df['treatment_type']\n",
    "\n",
    "# Split data into train and test\n",
    "X_train, X_test, y_train, y_test = train_test_split(X, y, test_size=0.2, random_state=42)\n",
    "\n",
    "# Apply SMOTE to balance the dataset\n",
    "smote = SMOTE(sampling_strategy='auto', random_state=42)\n",
    "X_res, y_res = smote.fit_resample(X_train, y_train)\n",
    "\n",
    "print(f\"Original dataset size: {len(y_train)}\")\n",
    "print(f\"Resampled dataset size: {len(y_res)}\")"
   ]
  },
  {
   "cell_type": "code",
   "execution_count": 16,
   "id": "ffb0e255-1678-468f-b5a5-cab7b50c878b",
   "metadata": {},
   "outputs": [
    {
     "name": "stdout",
     "output_type": "stream",
     "text": [
      "Original dataset size: 80000\n",
      "Resampled dataset size: 37429\n"
     ]
    }
   ],
   "source": [
    "from imblearn.under_sampling import NearMiss\n",
    "\n",
    "# Apply NearMiss undersampling technique\n",
    "near_miss = NearMiss()\n",
    "X_res, y_res = near_miss.fit_resample(X_train, y_train)\n",
    "\n",
    "print(f\"Original dataset size: {len(y_train)}\")\n",
    "print(f\"Resampled dataset size: {len(y_res)}\")"
   ]
  },
  {
   "cell_type": "code",
   "execution_count": 17,
   "id": "b37fa1b8-5bb4-4d19-912e-b6baf65076b8",
   "metadata": {},
   "outputs": [
    {
     "data": {
      "text/html": [
       "<style>#sk-container-id-1 {color: black;background-color: white;}#sk-container-id-1 pre{padding: 0;}#sk-container-id-1 div.sk-toggleable {background-color: white;}#sk-container-id-1 label.sk-toggleable__label {cursor: pointer;display: block;width: 100%;margin-bottom: 0;padding: 0.3em;box-sizing: border-box;text-align: center;}#sk-container-id-1 label.sk-toggleable__label-arrow:before {content: \"▸\";float: left;margin-right: 0.25em;color: #696969;}#sk-container-id-1 label.sk-toggleable__label-arrow:hover:before {color: black;}#sk-container-id-1 div.sk-estimator:hover label.sk-toggleable__label-arrow:before {color: black;}#sk-container-id-1 div.sk-toggleable__content {max-height: 0;max-width: 0;overflow: hidden;text-align: left;background-color: #f0f8ff;}#sk-container-id-1 div.sk-toggleable__content pre {margin: 0.2em;color: black;border-radius: 0.25em;background-color: #f0f8ff;}#sk-container-id-1 input.sk-toggleable__control:checked~div.sk-toggleable__content {max-height: 200px;max-width: 100%;overflow: auto;}#sk-container-id-1 input.sk-toggleable__control:checked~label.sk-toggleable__label-arrow:before {content: \"▾\";}#sk-container-id-1 div.sk-estimator input.sk-toggleable__control:checked~label.sk-toggleable__label {background-color: #d4ebff;}#sk-container-id-1 div.sk-label input.sk-toggleable__control:checked~label.sk-toggleable__label {background-color: #d4ebff;}#sk-container-id-1 input.sk-hidden--visually {border: 0;clip: rect(1px 1px 1px 1px);clip: rect(1px, 1px, 1px, 1px);height: 1px;margin: -1px;overflow: hidden;padding: 0;position: absolute;width: 1px;}#sk-container-id-1 div.sk-estimator {font-family: monospace;background-color: #f0f8ff;border: 1px dotted black;border-radius: 0.25em;box-sizing: border-box;margin-bottom: 0.5em;}#sk-container-id-1 div.sk-estimator:hover {background-color: #d4ebff;}#sk-container-id-1 div.sk-parallel-item::after {content: \"\";width: 100%;border-bottom: 1px solid gray;flex-grow: 1;}#sk-container-id-1 div.sk-label:hover label.sk-toggleable__label {background-color: #d4ebff;}#sk-container-id-1 div.sk-serial::before {content: \"\";position: absolute;border-left: 1px solid gray;box-sizing: border-box;top: 0;bottom: 0;left: 50%;z-index: 0;}#sk-container-id-1 div.sk-serial {display: flex;flex-direction: column;align-items: center;background-color: white;padding-right: 0.2em;padding-left: 0.2em;position: relative;}#sk-container-id-1 div.sk-item {position: relative;z-index: 1;}#sk-container-id-1 div.sk-parallel {display: flex;align-items: stretch;justify-content: center;background-color: white;position: relative;}#sk-container-id-1 div.sk-item::before, #sk-container-id-1 div.sk-parallel-item::before {content: \"\";position: absolute;border-left: 1px solid gray;box-sizing: border-box;top: 0;bottom: 0;left: 50%;z-index: -1;}#sk-container-id-1 div.sk-parallel-item {display: flex;flex-direction: column;z-index: 1;position: relative;background-color: white;}#sk-container-id-1 div.sk-parallel-item:first-child::after {align-self: flex-end;width: 50%;}#sk-container-id-1 div.sk-parallel-item:last-child::after {align-self: flex-start;width: 50%;}#sk-container-id-1 div.sk-parallel-item:only-child::after {width: 0;}#sk-container-id-1 div.sk-dashed-wrapped {border: 1px dashed gray;margin: 0 0.4em 0.5em 0.4em;box-sizing: border-box;padding-bottom: 0.4em;background-color: white;}#sk-container-id-1 div.sk-label label {font-family: monospace;font-weight: bold;display: inline-block;line-height: 1.2em;}#sk-container-id-1 div.sk-label-container {text-align: center;}#sk-container-id-1 div.sk-container {/* jupyter's `normalize.less` sets `[hidden] { display: none; }` but bootstrap.min.css set `[hidden] { display: none !important; }` so we also need the `!important` here to be able to override the default hidden behavior on the sphinx rendered scikit-learn.org. See: https://github.com/scikit-learn/scikit-learn/issues/21755 */display: inline-block !important;position: relative;}#sk-container-id-1 div.sk-text-repr-fallback {display: none;}</style><div id=\"sk-container-id-1\" class=\"sk-top-container\"><div class=\"sk-text-repr-fallback\"><pre>RandomForestClassifier(class_weight=&#x27;balanced&#x27;, random_state=42)</pre><b>In a Jupyter environment, please rerun this cell to show the HTML representation or trust the notebook. <br />On GitHub, the HTML representation is unable to render, please try loading this page with nbviewer.org.</b></div><div class=\"sk-container\" hidden><div class=\"sk-item\"><div class=\"sk-estimator sk-toggleable\"><input class=\"sk-toggleable__control sk-hidden--visually\" id=\"sk-estimator-id-1\" type=\"checkbox\" checked><label for=\"sk-estimator-id-1\" class=\"sk-toggleable__label sk-toggleable__label-arrow\">RandomForestClassifier</label><div class=\"sk-toggleable__content\"><pre>RandomForestClassifier(class_weight=&#x27;balanced&#x27;, random_state=42)</pre></div></div></div></div></div>"
      ],
      "text/plain": [
       "RandomForestClassifier(class_weight='balanced', random_state=42)"
      ]
     },
     "execution_count": 17,
     "metadata": {},
     "output_type": "execute_result"
    }
   ],
   "source": [
    "from sklearn.ensemble import RandomForestClassifier\n",
    "\n",
    "# Train the model with balanced class weights\n",
    "clf = RandomForestClassifier(n_estimators=100, random_state=42, class_weight='balanced')\n",
    "clf.fit(X_res, y_res)"
   ]
  },
  {
   "cell_type": "code",
   "execution_count": 18,
   "id": "c71e8e22-1928-4252-bab0-612d17963dd8",
   "metadata": {},
   "outputs": [
    {
     "name": "stdout",
     "output_type": "stream",
     "text": [
      "              precision    recall  f1-score   support\n",
      "\n",
      "           0       0.98      1.00      0.99      3041\n",
      "           1       0.96      1.00      0.98      1386\n",
      "           2       1.00      1.00      1.00      5398\n",
      "           3       1.00      0.97      0.98      4960\n",
      "           4       0.95      1.00      0.98      1308\n",
      "           5       1.00      1.00      1.00      2246\n",
      "           6       1.00      1.00      1.00      1661\n",
      "\n",
      "    accuracy                           0.99     20000\n",
      "   macro avg       0.99      0.99      0.99     20000\n",
      "weighted avg       0.99      0.99      0.99     20000\n",
      "\n"
     ]
    }
   ],
   "source": [
    "from sklearn.metrics import classification_report\n",
    "\n",
    "y_pred = clf.predict(X_test)\n",
    "print(classification_report(y_test, y_pred))"
   ]
  },
  {
   "cell_type": "code",
   "execution_count": 19,
   "id": "80d0e915-207e-4b26-b336-4f1265881029",
   "metadata": {},
   "outputs": [
    {
     "name": "stdout",
     "output_type": "stream",
     "text": [
      "Fitting 3 folds for each of 81 candidates, totalling 243 fits\n",
      "Best Parameters:  {'max_depth': 20, 'min_samples_leaf': 1, 'min_samples_split': 5, 'n_estimators': 100}\n"
     ]
    }
   ],
   "source": [
    "from sklearn.model_selection import GridSearchCV\n",
    "\n",
    "# Hyperparameter grid for Random Forest\n",
    "param_grid = {\n",
    "    'n_estimators': [100, 200, 300],\n",
    "    'max_depth': [10, 20, None],\n",
    "    'min_samples_split': [2, 5, 10],\n",
    "    'min_samples_leaf': [1, 2, 4]\n",
    "}\n",
    "\n",
    "grid_search = GridSearchCV(estimator=RandomForestClassifier(class_weight='balanced', random_state=42), \n",
    "                           param_grid=param_grid, cv=3, n_jobs=-1, verbose=2)\n",
    "\n",
    "grid_search.fit(X_res, y_res)\n",
    "\n",
    "print(\"Best Parameters: \", grid_search.best_params_)"
   ]
  },
  {
   "cell_type": "code",
   "execution_count": 20,
   "id": "d5c4bb6c-348f-447e-92d8-49467fb45fd0",
   "metadata": {},
   "outputs": [
    {
     "name": "stderr",
     "output_type": "stream",
     "text": [
      "C:\\Users\\shaik\\anaconda3\\Lib\\site-packages\\imblearn\\ensemble\\_forest.py:546: FutureWarning: The default of `sampling_strategy` will change from `'auto'` to `'all'` in version 0.13. This change will follow the implementation proposed in the original paper. Set to `'all'` to silence this warning and adopt the future behaviour.\n",
      "  warn(\n",
      "C:\\Users\\shaik\\anaconda3\\Lib\\site-packages\\imblearn\\ensemble\\_forest.py:558: FutureWarning: The default of `replacement` will change from `False` to `True` in version 0.13. This change will follow the implementation proposed in the original paper. Set to `True` to silence this warning and adopt the future behaviour.\n",
      "  warn(\n"
     ]
    },
    {
     "data": {
      "text/html": [
       "<style>#sk-container-id-2 {color: black;background-color: white;}#sk-container-id-2 pre{padding: 0;}#sk-container-id-2 div.sk-toggleable {background-color: white;}#sk-container-id-2 label.sk-toggleable__label {cursor: pointer;display: block;width: 100%;margin-bottom: 0;padding: 0.3em;box-sizing: border-box;text-align: center;}#sk-container-id-2 label.sk-toggleable__label-arrow:before {content: \"▸\";float: left;margin-right: 0.25em;color: #696969;}#sk-container-id-2 label.sk-toggleable__label-arrow:hover:before {color: black;}#sk-container-id-2 div.sk-estimator:hover label.sk-toggleable__label-arrow:before {color: black;}#sk-container-id-2 div.sk-toggleable__content {max-height: 0;max-width: 0;overflow: hidden;text-align: left;background-color: #f0f8ff;}#sk-container-id-2 div.sk-toggleable__content pre {margin: 0.2em;color: black;border-radius: 0.25em;background-color: #f0f8ff;}#sk-container-id-2 input.sk-toggleable__control:checked~div.sk-toggleable__content {max-height: 200px;max-width: 100%;overflow: auto;}#sk-container-id-2 input.sk-toggleable__control:checked~label.sk-toggleable__label-arrow:before {content: \"▾\";}#sk-container-id-2 div.sk-estimator input.sk-toggleable__control:checked~label.sk-toggleable__label {background-color: #d4ebff;}#sk-container-id-2 div.sk-label input.sk-toggleable__control:checked~label.sk-toggleable__label {background-color: #d4ebff;}#sk-container-id-2 input.sk-hidden--visually {border: 0;clip: rect(1px 1px 1px 1px);clip: rect(1px, 1px, 1px, 1px);height: 1px;margin: -1px;overflow: hidden;padding: 0;position: absolute;width: 1px;}#sk-container-id-2 div.sk-estimator {font-family: monospace;background-color: #f0f8ff;border: 1px dotted black;border-radius: 0.25em;box-sizing: border-box;margin-bottom: 0.5em;}#sk-container-id-2 div.sk-estimator:hover {background-color: #d4ebff;}#sk-container-id-2 div.sk-parallel-item::after {content: \"\";width: 100%;border-bottom: 1px solid gray;flex-grow: 1;}#sk-container-id-2 div.sk-label:hover label.sk-toggleable__label {background-color: #d4ebff;}#sk-container-id-2 div.sk-serial::before {content: \"\";position: absolute;border-left: 1px solid gray;box-sizing: border-box;top: 0;bottom: 0;left: 50%;z-index: 0;}#sk-container-id-2 div.sk-serial {display: flex;flex-direction: column;align-items: center;background-color: white;padding-right: 0.2em;padding-left: 0.2em;position: relative;}#sk-container-id-2 div.sk-item {position: relative;z-index: 1;}#sk-container-id-2 div.sk-parallel {display: flex;align-items: stretch;justify-content: center;background-color: white;position: relative;}#sk-container-id-2 div.sk-item::before, #sk-container-id-2 div.sk-parallel-item::before {content: \"\";position: absolute;border-left: 1px solid gray;box-sizing: border-box;top: 0;bottom: 0;left: 50%;z-index: -1;}#sk-container-id-2 div.sk-parallel-item {display: flex;flex-direction: column;z-index: 1;position: relative;background-color: white;}#sk-container-id-2 div.sk-parallel-item:first-child::after {align-self: flex-end;width: 50%;}#sk-container-id-2 div.sk-parallel-item:last-child::after {align-self: flex-start;width: 50%;}#sk-container-id-2 div.sk-parallel-item:only-child::after {width: 0;}#sk-container-id-2 div.sk-dashed-wrapped {border: 1px dashed gray;margin: 0 0.4em 0.5em 0.4em;box-sizing: border-box;padding-bottom: 0.4em;background-color: white;}#sk-container-id-2 div.sk-label label {font-family: monospace;font-weight: bold;display: inline-block;line-height: 1.2em;}#sk-container-id-2 div.sk-label-container {text-align: center;}#sk-container-id-2 div.sk-container {/* jupyter's `normalize.less` sets `[hidden] { display: none; }` but bootstrap.min.css set `[hidden] { display: none !important; }` so we also need the `!important` here to be able to override the default hidden behavior on the sphinx rendered scikit-learn.org. See: https://github.com/scikit-learn/scikit-learn/issues/21755 */display: inline-block !important;position: relative;}#sk-container-id-2 div.sk-text-repr-fallback {display: none;}</style><div id=\"sk-container-id-2\" class=\"sk-top-container\"><div class=\"sk-text-repr-fallback\"><pre>BalancedRandomForestClassifier(random_state=42)</pre><b>In a Jupyter environment, please rerun this cell to show the HTML representation or trust the notebook. <br />On GitHub, the HTML representation is unable to render, please try loading this page with nbviewer.org.</b></div><div class=\"sk-container\" hidden><div class=\"sk-item\"><div class=\"sk-estimator sk-toggleable\"><input class=\"sk-toggleable__control sk-hidden--visually\" id=\"sk-estimator-id-2\" type=\"checkbox\" checked><label for=\"sk-estimator-id-2\" class=\"sk-toggleable__label sk-toggleable__label-arrow\">BalancedRandomForestClassifier</label><div class=\"sk-toggleable__content\"><pre>BalancedRandomForestClassifier(random_state=42)</pre></div></div></div></div></div>"
      ],
      "text/plain": [
       "BalancedRandomForestClassifier(random_state=42)"
      ]
     },
     "execution_count": 20,
     "metadata": {},
     "output_type": "execute_result"
    }
   ],
   "source": [
    "from imblearn.ensemble import BalancedRandomForestClassifier\n",
    "\n",
    "clf = BalancedRandomForestClassifier(n_estimators=100, random_state=42)\n",
    "clf.fit(X_res, y_res)"
   ]
  },
  {
   "cell_type": "code",
   "execution_count": 21,
   "id": "6f3e365c-383a-48f5-9936-718b3198f16c",
   "metadata": {},
   "outputs": [
    {
     "name": "stderr",
     "output_type": "stream",
     "text": [
      "C:\\Users\\shaik\\anaconda3\\Lib\\site-packages\\imblearn\\ensemble\\_forest.py:546: FutureWarning: The default of `sampling_strategy` will change from `'auto'` to `'all'` in version 0.13. This change will follow the implementation proposed in the original paper. Set to `'all'` to silence this warning and adopt the future behaviour.\n",
      "  warn(\n",
      "C:\\Users\\shaik\\anaconda3\\Lib\\site-packages\\imblearn\\ensemble\\_forest.py:558: FutureWarning: The default of `replacement` will change from `False` to `True` in version 0.13. This change will follow the implementation proposed in the original paper. Set to `True` to silence this warning and adopt the future behaviour.\n",
      "  warn(\n",
      "C:\\Users\\shaik\\anaconda3\\Lib\\site-packages\\imblearn\\ensemble\\_forest.py:546: FutureWarning: The default of `sampling_strategy` will change from `'auto'` to `'all'` in version 0.13. This change will follow the implementation proposed in the original paper. Set to `'all'` to silence this warning and adopt the future behaviour.\n",
      "  warn(\n",
      "C:\\Users\\shaik\\anaconda3\\Lib\\site-packages\\imblearn\\ensemble\\_forest.py:558: FutureWarning: The default of `replacement` will change from `False` to `True` in version 0.13. This change will follow the implementation proposed in the original paper. Set to `True` to silence this warning and adopt the future behaviour.\n",
      "  warn(\n",
      "C:\\Users\\shaik\\anaconda3\\Lib\\site-packages\\imblearn\\ensemble\\_forest.py:546: FutureWarning: The default of `sampling_strategy` will change from `'auto'` to `'all'` in version 0.13. This change will follow the implementation proposed in the original paper. Set to `'all'` to silence this warning and adopt the future behaviour.\n",
      "  warn(\n",
      "C:\\Users\\shaik\\anaconda3\\Lib\\site-packages\\imblearn\\ensemble\\_forest.py:558: FutureWarning: The default of `replacement` will change from `False` to `True` in version 0.13. This change will follow the implementation proposed in the original paper. Set to `True` to silence this warning and adopt the future behaviour.\n",
      "  warn(\n",
      "C:\\Users\\shaik\\anaconda3\\Lib\\site-packages\\imblearn\\ensemble\\_forest.py:546: FutureWarning: The default of `sampling_strategy` will change from `'auto'` to `'all'` in version 0.13. This change will follow the implementation proposed in the original paper. Set to `'all'` to silence this warning and adopt the future behaviour.\n",
      "  warn(\n",
      "C:\\Users\\shaik\\anaconda3\\Lib\\site-packages\\imblearn\\ensemble\\_forest.py:558: FutureWarning: The default of `replacement` will change from `False` to `True` in version 0.13. This change will follow the implementation proposed in the original paper. Set to `True` to silence this warning and adopt the future behaviour.\n",
      "  warn(\n",
      "C:\\Users\\shaik\\anaconda3\\Lib\\site-packages\\imblearn\\ensemble\\_forest.py:546: FutureWarning: The default of `sampling_strategy` will change from `'auto'` to `'all'` in version 0.13. This change will follow the implementation proposed in the original paper. Set to `'all'` to silence this warning and adopt the future behaviour.\n",
      "  warn(\n",
      "C:\\Users\\shaik\\anaconda3\\Lib\\site-packages\\imblearn\\ensemble\\_forest.py:558: FutureWarning: The default of `replacement` will change from `False` to `True` in version 0.13. This change will follow the implementation proposed in the original paper. Set to `True` to silence this warning and adopt the future behaviour.\n",
      "  warn(\n"
     ]
    },
    {
     "name": "stdout",
     "output_type": "stream",
     "text": [
      "Cross-validation scores: [1.         0.99986642 0.99973283 0.99986642 0.9997328 ]\n"
     ]
    }
   ],
   "source": [
    "from sklearn.model_selection import cross_val_score\n",
    "\n",
    "scores = cross_val_score(clf, X_res, y_res, cv=5, scoring='accuracy')\n",
    "print(f\"Cross-validation scores: {scores}\")"
   ]
  },
  {
   "cell_type": "code",
   "execution_count": 22,
   "id": "1b92c05c-0b02-4846-96e9-6db567439404",
   "metadata": {},
   "outputs": [
    {
     "data": {
      "image/png": "[encoded data removed]",
      "text/plain": [
       "<Figure size 1200x600 with 2 Axes>"
      ]
     },
     "metadata": {},
     "output_type": "display_data"
    }
   ],
   "source": [
    "import matplotlib.pyplot as plt\n",
    "\n",
    "# Plot original class distribution\n",
    "plt.figure(figsize=(12, 6))\n",
    "plt.subplot(1, 2, 1)\n",
    "df['treatment_type'].value_counts().plot(kind='bar')\n",
    "plt.title('Original Class Distribution')\n",
    "plt.xlabel('Treatment Type')\n",
    "plt.ylabel('Count')\n",
    "\n",
    "# Plot resampled class distribution\n",
    "plt.subplot(1, 2, 2)\n",
    "pd.Series(y_res).value_counts().plot(kind='bar')\n",
    "plt.title('Resampled Class Distribution')\n",
    "plt.xlabel('Treatment Type')\n",
    "plt.ylabel('Count')\n",
    "\n",
    "plt.tight_layout()\n",
    "plt.show()"
   ]
  },
  {
   "cell_type": "code",
   "execution_count": 23,
   "id": "dba339cd-75c9-440e-84c7-43be210fa295",
   "metadata": {},
   "outputs": [
    {
     "name": "stdout",
     "output_type": "stream",
     "text": [
      "Cross-validation accuracy scores: [1.         0.99986642 0.99986642 1.         0.9997328 ]\n",
      "Mean cross-validation score: 0.9998931267111656\n"
     ]
    }
   ],
   "source": [
    "from sklearn.model_selection import cross_val_score\n",
    "from sklearn.ensemble import RandomForestClassifier\n",
    "\n",
    "# Use a model with balanced class weights or the resampled data\n",
    "clf = RandomForestClassifier(class_weight='balanced', random_state=42)\n",
    "\n",
    "# Evaluate using cross-validation\n",
    "scores = cross_val_score(clf, X_res, y_res, cv=5, scoring='accuracy')\n",
    "\n",
    "# Print the cross-validation scores\n",
    "print(f\"Cross-validation accuracy scores: {scores}\")\n",
    "print(f\"Mean cross-validation score: {scores.mean()}\")"
   ]
  },
  {
   "cell_type": "code",
   "execution_count": 24,
   "id": "111418a5-9931-4335-bb7c-3b3b1fa6c99f",
   "metadata": {},
   "outputs": [
    {
     "name": "stdout",
     "output_type": "stream",
     "text": [
      "Classification report before resampling:\n",
      "              precision    recall  f1-score   support\n",
      "\n",
      "           0       1.00      1.00      1.00      3041\n",
      "           1       1.00      1.00      1.00      1386\n",
      "           2       1.00      1.00      1.00      5398\n",
      "           3       1.00      1.00      1.00      4960\n",
      "           4       1.00      1.00      1.00      1308\n",
      "           5       1.00      1.00      1.00      2246\n",
      "           6       1.00      1.00      1.00      1661\n",
      "\n",
      "    accuracy                           1.00     20000\n",
      "   macro avg       1.00      1.00      1.00     20000\n",
      "weighted avg       1.00      1.00      1.00     20000\n",
      "\n",
      "Classification report after resampling:\n",
      "              precision    recall  f1-score   support\n",
      "\n",
      "           0       0.98      1.00      0.99      3041\n",
      "           1       0.96      1.00      0.98      1386\n",
      "           2       1.00      1.00      1.00      5398\n",
      "           3       1.00      0.97      0.98      4960\n",
      "           4       0.95      1.00      0.98      1308\n",
      "           5       1.00      1.00      1.00      2246\n",
      "           6       1.00      1.00      1.00      1661\n",
      "\n",
      "    accuracy                           0.99     20000\n",
      "   macro avg       0.99      0.99      0.99     20000\n",
      "weighted avg       0.99      0.99      0.99     20000\n",
      "\n"
     ]
    }
   ],
   "source": [
    "# Model before resampling\n",
    "clf_before = RandomForestClassifier(random_state=42)\n",
    "clf_before.fit(X_train, y_train)\n",
    "y_pred_before = clf_before.predict(X_test)\n",
    "\n",
    "print(\"Classification report before resampling:\")\n",
    "print(classification_report(y_test, y_pred_before))\n",
    "\n",
    "# Model after resampling (e.g., with SMOTE)\n",
    "clf_after = RandomForestClassifier(random_state=42)\n",
    "clf_after.fit(X_res, y_res)\n",
    "y_pred_after = clf_after.predict(X_test)\n",
    "\n",
    "print(\"Classification report after resampling:\")\n",
    "print(classification_report(y_test, y_pred_after))"
   ]
  },
  {
   "cell_type": "code",
   "execution_count": 25,
   "id": "1d656615-90a6-425e-9986-fcb456cdf49d",
   "metadata": {},
   "outputs": [
    {
     "name": "stdout",
     "output_type": "stream",
     "text": [
      "Resampled model and label encoder have been saved successfully!\n"
     ]
    }
   ],
   "source": [
    "from imblearn.over_sampling import SMOTE\n",
    "from sklearn.ensemble import RandomForestClassifier\n",
    "from sklearn.preprocessing import LabelEncoder\n",
    "import joblib\n",
    "\n",
    "# Example training data (replace with your actual training data)\n",
    "# X_train, y_train = <Your original training data>\n",
    "\n",
    "# Step 1: Resample the data using SMOTE\n",
    "smote = SMOTE(random_state=42)\n",
    "X_res, y_res = smote.fit_resample(X_train, y_train)\n",
    "\n",
    "# Step 2: Train the model on the resampled data\n",
    "clf_resampled = RandomForestClassifier(random_state=42)\n",
    "clf_resampled.fit(X_res, y_res)\n",
    "\n",
    "# Step 3: Train the label encoder (if you're using it for encoding target labels)\n",
    "label_encoder = LabelEncoder()\n",
    "label_encoder.fit(y_res)  # Fit the encoder on the resampled target labels\n",
    "\n",
    "# Step 4: Save the resampled trained model and label encoder, overwriting the existing files\n",
    "joblib.dump(clf_resampled, 'trained_model.pkl')  # This will overwrite the previous model file\n",
    "joblib.dump(label_encoder, 'label_encoder.pkl')  # This will overwrite the previous label encoder file\n",
    "\n",
    "print(\"Resampled model and label encoder have been saved successfully!\")"
   ]
  },
  {
   "cell_type": "code",
   "execution_count": 26,
   "id": "22c3d750-5ea0-492c-aa71-5b49b72396a5",
   "metadata": {},
   "outputs": [
    {
     "name": "stdout",
     "output_type": "stream",
     "text": [
      "treatment_type\n",
      "2    26725\n",
      "3    25096\n",
      "0    15008\n",
      "5    11480\n",
      "6     8299\n",
      "1     6733\n",
      "4     6659\n",
      "Name: count, dtype: int64\n"
     ]
    }
   ],
   "source": [
    "print(df['treatment_type'].value_counts())"
   ]
  },
  {
   "cell_type": "code",
   "execution_count": 27,
   "id": "48f732e0-e289-4931-8d38-781ad81c7238",
   "metadata": {},
   "outputs": [
    {
     "name": "stdout",
     "output_type": "stream",
     "text": [
      "int32\n"
     ]
    }
   ],
   "source": [
    "print(df['treatment_type'].dtype)"
   ]
  },
  {
   "cell_type": "code",
   "execution_count": 28,
   "id": "8b22bb93-8601-4334-86e5-67140dd4c142",
   "metadata": {},
   "outputs": [
    {
     "name": "stdout",
     "output_type": "stream",
     "text": [
      "treatment_name\n",
      "Lifestyle Changes    26725\n",
      "Medication           25096\n",
      "Inhalers             15008\n",
      "Physiotherapy        11480\n",
      "Surgery               8299\n",
      "Insulin Therapy       6733\n",
      "Oxygen Therapy        6659\n",
      "Name: count, dtype: int64\n"
     ]
    }
   ],
   "source": [
    "# Map the numeric treatment types back to actual names\n",
    "treatment_names = le.inverse_transform(df['treatment_type'].values)\n",
    "\n",
    "# Add the treatment names as a new column\n",
    "df['treatment_name'] = treatment_names\n",
    "\n",
    "# Count occurrences of each treatment type\n",
    "treatment_counts = df['treatment_name'].value_counts()\n",
    "\n",
    "# Display the treatment counts\n",
    "print(treatment_counts)"
   ]
  },
  {
   "cell_type": "code",
   "execution_count": 29,
   "id": "b23443ed-33f3-4bf0-a41e-9caf890d3ee2",
   "metadata": {},
   "outputs": [
    {
     "name": "stdout",
     "output_type": "stream",
     "text": [
      "LabelEncoder classes: ['Inhalers' 'Insulin Therapy' 'Lifestyle Changes' 'Medication'\n",
      " 'Oxygen Therapy' 'Physiotherapy' 'Surgery']\n"
     ]
    }
   ],
   "source": [
    "print(\"LabelEncoder classes:\", le.classes_)"
   ]
  },
  {
   "cell_type": "code",
   "execution_count": null,
   "id": "829172b8-ba27-440d-9d76-c6c0b2d5a960",
   "metadata": {},
   "outputs": [],
   "source": []
  }
 ],
 "metadata": {
  "kernelspec": {
   "display_name": "Python 3 (ipykernel)",
   "language": "python",
   "name": "python3"
  },
  "language_info": {
   "codemirror_mode": {
    "name": "ipython",
    "version": 3
   },
   "file_extension": ".py",
   "mimetype": "text/x-python",
   "name": "python",
   "nbconvert_exporter": "python",
   "pygments_lexer": "ipython3",
   "version": "3.11.7"
  }
 },
 "nbformat": 4,
 "nbformat_minor": 5
}
